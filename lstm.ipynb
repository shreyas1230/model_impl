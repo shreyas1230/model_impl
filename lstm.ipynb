{
 "cells": [
  {
   "cell_type": "markdown",
   "id": "56dcf7a5",
   "metadata": {},
   "source": [
    "# Long Short Term Memory (LSTM) Model\n",
    "\n",
    "Although RNNs are effective in remembering short sequences, they can't keep track of relations across longer sequences. This is due to the vanishing gradient problem. Repeated multiplications of values less than 1 results in vanishingly small gradients. LSTMs perform better than RNNs by incorporating both short term memory (as a hidden state) and longer term memory (as a cell state).\n",
    "\n",
    "The core concepts of LSTMs is a gate. Gates allow or reject information to flow across sequences based on relevance to the task. LSTMs consist of forget, input, and output gates.\n",
    "\n",
    "<img src=\"https://d2mk45aasx86xg.cloudfront.net/image17_11zon_2727417658.webp\" alt=\"LSTM model\" style=\"width: 700px;\"/>\n",
    "\n",
    "Let's go over the gates one by one:\n",
    "\n",
    "## Forget Gate\n",
    "<img src=\"https://colah.github.io/posts/2015-08-Understanding-LSTMs/img/LSTM3-focus-f.png\" alt=\"Forget Gate\" style=\"width: 700px;\"/>\n",
    "The forget gate dictates whether information from the previous time step (hidden state) should be remembered or forgotten. It does this by concatenating the previous hidden state $h^{(t-1)}$ and the current input $x^{(t)}$ and passing it through a fully connected layer and a sigmoid function, resulting in a forget vector, $f^{(t)}$. For each element in $f^{(t)}$, if it is closer to 0, that element will be forgotten more easily and if it closer to 1, the corresponding element will be remembered longer. Finally, this forget vector is element wise multiplied with the previous cell state $C^{(t-1)}$. The data (cell state) is remembered/forgotten by multiplying each element with a weight that represents how strongly the element should be remembered (forget vector).\n",
    "\n",
    "If we are just trying to determine whether to forget the previous memory, why do we need to use the current input $x^{(t)}$? The model needs to know what information is relevant when it is deciding what to remember. $x^{(t)}$ provides this context with which the model can evaluate past history.\n",
    "\n",
    "## Input Gate\n",
    "<img src=\"https://colah.github.io/posts/2015-08-Understanding-LSTMs/img/LSTM3-focus-i.png\" alt=\"Input Gate\" style=\"width: 700px;\"/>\n",
    "The input gate's job is to add new information to the cell memory for future computation. It does this in two steps. First, a similar computation to the forget gate is done (with different weights, of course) to create an input vector $i^{(t)}$.\n",
    "\n",
    "Similar to the forget vector, this input vector selects parts of memory that should be updated. Next, the previous hidden state $h^{(t-1)}$ and the current input $x^{(t)}$ are concatenated and passed through another fully connected layer. However, this time, a tanh activation is used, resulting in a vector of new candidate values, $\\tilde{C}^{(t)}$. This vector is the actual data to be added to the previous memory. Values are between -1 and 1 with negative values removing information and positive values adding information.\n",
    "\n",
    "<img src=\"https://colah.github.io/posts/2015-08-Understanding-LSTMs/img/LSTM3-focus-C.png\" alt=\"Cell State\" style=\"width: 700px;\"/>\n",
    "Finally, the input vector $i^{(t)}$ and new candidate values $\\tilde{C}^{(t)}$ are elementwise multiplied and added to the output of the forget gate. This results in the new cell state, $C^{(t)}$.\n",
    "\n",
    "## Output Gate\n",
    "<img src=\"https://colah.github.io/posts/2015-08-Understanding-LSTMs/img/LSTM3-focus-o.png\" alt=\"Output Gate\" style=\"width: 700px;\"/>\n",
    "The output gate calculates the output for the current step. This output is the updated hidden state $h^{(t)}$. An output vector $o^{(t)}$ is calculated using a similar method as for the forget vector. This output vector is element wise multiplied by tanh of the current cell state, resulting in the new hidden state. As before, tanh of the cell state is the actual data returned scaled between -1 to 1. The output vector simply selects which elements to return. This hidden state is propagated to the next time step as well as returned as the output for the current step.\n",
    "\n",
    "Let's implement a character level LSTM to classify names by language."
   ]
  },
  {
   "cell_type": "code",
   "execution_count": 1,
   "id": "fcff82bb",
   "metadata": {},
   "outputs": [],
   "source": [
    "# Import necessary packages\n",
    "import requests\n",
    "import io\n",
    "import zipfile\n",
    "import os\n",
    "import unicodedata\n",
    "import string\n",
    "import torch\n",
    "import torch.nn as nn\n",
    "from torch.utils.data import Dataset\n",
    "from torch.utils.data import DataLoader\n",
    "import time\n",
    "import math\n",
    "import tqdm\n",
    "import matplotlib.pyplot as plt\n",
    "import matplotlib.ticker as ticker\n",
    "import random"
   ]
  },
  {
   "cell_type": "markdown",
   "id": "b099f1b7",
   "metadata": {},
   "source": [
    "# Loading Data\n",
    "The RNN Pytorch tutorial (https://pytorch.org/tutorials/intermediate/char_rnn_classification_tutorial.html) provides a dataset which you can download. However, in this notebook, just read the data into memory directly."
   ]
  },
  {
   "cell_type": "code",
   "execution_count": 2,
   "id": "3ec1fb58",
   "metadata": {},
   "outputs": [],
   "source": [
    "# Define all letters in ascii plus some additional characters\n",
    "all_letters = string.ascii_letters + \" .,;'\"\n",
    "n_letters = len(all_letters)\n",
    "\n",
    "# Turn a Unicode string to plain ASCII, thanks to https://stackoverflow.com/a/518232/2809427\n",
    "def unicodeToAscii(s):\n",
    "    return ''.join(\n",
    "        c for c in unicodedata.normalize('NFD', s)\n",
    "        if unicodedata.category(c) != 'Mn'\n",
    "        and c in all_letters\n",
    "    )\n",
    "\n",
    "def read_names_dataset():\n",
    "    # Build the category_lines dictionary, a list of names per language\n",
    "    category_lines = {}\n",
    "    all_categories = []\n",
    "    \n",
    "    url = 'https://download.pytorch.org/tutorial/data.zip'\n",
    "    r = requests.get(url)\n",
    "    with io.BytesIO(r.content) as zip_bytes:\n",
    "        with zipfile.ZipFile(zip_bytes) as f:\n",
    "            zip_contents = f.namelist()\n",
    "            \n",
    "            for filename in zip_contents:\n",
    "                # Skip over irrelevant files and folders\n",
    "                if 'data/names' not in filename or '.' not in filename:\n",
    "                    continue\n",
    "                category = os.path.splitext(os.path.basename(filename))[0]\n",
    "                all_categories.append(category)\n",
    "                lines = f.read(filename).decode('utf-8').strip().split('\\n')\n",
    "                lines = [unicodeToAscii(line) for line in lines]\n",
    "                category_lines[category] = lines\n",
    "    return all_categories, category_lines"
   ]
  },
  {
   "cell_type": "code",
   "execution_count": 3,
   "id": "994d7b8e",
   "metadata": {},
   "outputs": [],
   "source": [
    "all_categories, category_lines = read_names_dataset()\n",
    "n_categories = len(all_categories)"
   ]
  },
  {
   "cell_type": "code",
   "execution_count": 4,
   "id": "1d65f90f",
   "metadata": {},
   "outputs": [
    {
     "name": "stdout",
     "output_type": "stream",
     "text": [
      "['Arabic', 'Chinese', 'Czech', 'Dutch', 'English', 'French', 'German', 'Greek', 'Irish', 'Italian', 'Japanese', 'Korean', 'Polish', 'Portuguese', 'Russian', 'Scottish', 'Spanish', 'Vietnamese']\n",
      "['Abandonato', 'Abatangelo', 'Abatantuono', 'Abate', 'Abategiovanni']\n"
     ]
    }
   ],
   "source": [
    "print(all_categories)\n",
    "print(category_lines['Italian'][:5])"
   ]
  },
  {
   "cell_type": "markdown",
   "id": "1173e9a2",
   "metadata": {},
   "source": [
    "Now that the data is loaded in, define a few helper functions to convert between character and numerical representation. Also define a function to return the most likely language given probabilities output from the model."
   ]
  },
  {
   "cell_type": "code",
   "execution_count": 5,
   "id": "7cc9ba81",
   "metadata": {},
   "outputs": [],
   "source": [
    "# Find letter index from all_letters, e.g. \"a\" = 0\n",
    "def letterToIndex(letter):\n",
    "    return all_letters.find(letter)\n",
    "\n",
    "# Turn a line into a <line_length x 1 x n_letters>,\n",
    "# or an array of one-hot letter vectors\n",
    "def lineToTensor(line):\n",
    "    tensor = torch.zeros(len(line), 1, n_letters)\n",
    "    for li, letter in enumerate(line):\n",
    "        tensor[li][0][letterToIndex(letter)] = 1\n",
    "    return tensor\n",
    "\n",
    "def categoryFromOutput(output):\n",
    "    top_n, top_i = output.topk(1)\n",
    "    category_i = top_i[0].item()\n",
    "    return all_categories[category_i], category_i"
   ]
  },
  {
   "cell_type": "markdown",
   "id": "84d6dc9c",
   "metadata": {},
   "source": [
    "Finally, define functions to randomly sample data from the dataset. This will be useful when querying data during training.\n",
    "\n",
    "**Note:** The way the data is being sampled is important. The code below randomly samples a language and then randomly chooses a name from that language. This is different from just randomly sampling a name from the set of all names. Randomly sampling a name from the set of all names would result in training heavily on over represented languages while not learning enough from languages with fewer names in the dataset."
   ]
  },
  {
   "cell_type": "code",
   "execution_count": 6,
   "id": "dec5d7a8",
   "metadata": {},
   "outputs": [],
   "source": [
    "def randomChoice(l):\n",
    "    return l[random.randint(0, len(l) - 1)]\n",
    "\n",
    "def randomTrainingExample():\n",
    "    category = randomChoice(all_categories)\n",
    "    line = randomChoice(category_lines[category])\n",
    "    category_tensor = torch.tensor([all_categories.index(category)], dtype=torch.long)\n",
    "    line_tensor = lineToTensor(line)\n",
    "    return category, line, category_tensor, line_tensor"
   ]
  },
  {
   "cell_type": "markdown",
   "id": "c47bc43b",
   "metadata": {},
   "source": [
    "# Defining the Model\n",
    "\n",
    "Now we define the LSTM model. As explained above, the six steps are:\n",
    "\n",
    "$$\n",
    "f^{(t)} = \\sigma{( W_f[h^{(t-1)}, x^{(t)}] + b_f )}\n",
    "$$\n",
    "\n",
    "$$\n",
    "i^{(t)} = \\sigma{( W_i[h^{(t-1)}, x^{(t)}] + b_i )}\n",
    "$$\n",
    "\n",
    "$$\n",
    "\\tilde{C}^{(t)} = tanh( W_C[h^{(t-1)}, x^{(t)}] + b_C )\n",
    "$$\n",
    "\n",
    "$$\n",
    "C^{(t)} = f^{(t)} \\odot C^{(t-1)} + i^{(t)} \\odot \\tilde{C}^{(t)}\n",
    "$$\n",
    "\n",
    "$$\n",
    "o^{(t)} = \\sigma{( W_o[h^{(t-1)}, x^{(t)}] + b_o )}\n",
    "$$\n",
    "\n",
    "$$\n",
    "h^{(t)} = o^{(t)} \\odot tanh( C^{(t)} )\n",
    "$$\n",
    "\n",
    "Let's write a model implementing these steps."
   ]
  },
  {
   "cell_type": "code",
   "execution_count": 9,
   "id": "83cf0123",
   "metadata": {},
   "outputs": [],
   "source": [
    "class LSTM(nn.Module):\n",
    "    def __init__(self, input_size, hidden_size, output_size):\n",
    "        super(LSTM, self).__init__()\n",
    "\n",
    "        self.hidden_size = hidden_size\n",
    "        \n",
    "        self.forget_gate = nn.Linear(input_size + hidden_size, hidden_size)\n",
    "        self.input_gate = nn.Linear(input_size + hidden_size, hidden_size)\n",
    "        self.output_gate = nn.Linear(input_size + hidden_size, hidden_size)\n",
    "        \n",
    "        self.new_cell_update = nn.Linear(input_size + hidden_size, hidden_size)\n",
    "        self.tanh = nn.Tanh()\n",
    "        self.sigmoid = nn.Sigmoid()\n",
    "        \n",
    "        # Adding another layer to convert from n_hidden to n_output, where n_output is number of predicted categories\n",
    "        self.output_layer = nn.Linear(hidden_size, output_size)\n",
    "        self.softmax = nn.LogSoftmax(dim=1)\n",
    "\n",
    "    def forward(self, x, hidden, cell_state):\n",
    "        combined = torch.cat((x, hidden), 1)\n",
    "        \n",
    "        forget_vector = self.sigmoid(self.forget_gate(combined))\n",
    "        input_vector = self.sigmoid(self.input_gate(combined))\n",
    "        output_vector = self.sigmoid(self.output_gate(combined))\n",
    "        \n",
    "        new_candidate_values = self.tanh(self.new_cell_update(combined))\n",
    "        new_cell_state = forget_vector * cell_state + input_vector * new_candidate_values\n",
    "        \n",
    "        hidden = output_vector * self.tanh(new_cell_state)\n",
    "        output = self.softmax(self.output_layer(hidden))\n",
    "        return output, hidden, new_cell_state\n",
    "\n",
    "    def initHidden(self):\n",
    "        return torch.zeros(1, self.hidden_size)\n",
    "\n",
    "    def initCell(self):\n",
    "        return torch.zeros(1, self.hidden_size)"
   ]
  },
  {
   "cell_type": "code",
   "execution_count": 10,
   "id": "35dc572c",
   "metadata": {},
   "outputs": [
    {
     "name": "stdout",
     "output_type": "stream",
     "text": [
      "LSTM(\n",
      "  (forget_gate): Linear(in_features=185, out_features=128, bias=True)\n",
      "  (input_gate): Linear(in_features=185, out_features=128, bias=True)\n",
      "  (output_gate): Linear(in_features=185, out_features=128, bias=True)\n",
      "  (new_cell_update): Linear(in_features=185, out_features=128, bias=True)\n",
      "  (tanh): Tanh()\n",
      "  (sigmoid): Sigmoid()\n",
      "  (output_layer): Linear(in_features=128, out_features=18, bias=True)\n",
      "  (softmax): LogSoftmax(dim=1)\n",
      ")\n"
     ]
    }
   ],
   "source": [
    "n_hidden = 128\n",
    "model = LSTM(n_letters, n_hidden, n_categories)\n",
    "print(model)"
   ]
  },
  {
   "cell_type": "markdown",
   "id": "41938f1a",
   "metadata": {},
   "source": [
    "# Training\n",
    "\n",
    "To train the model, define a criterion function to calculate the loss. NLLLoss is used here.\n",
    "\n",
    "A train function is also defined where it takes a single name and iterates over each of the characters in the name, passing the character as input to the model as well as the previous hidden state. After all characters are passed to the model, the loss is calculated using the final output and target category and the gradients are calculated with loss.backward(). Then the gradients are manually added to the weights. **Note:** this could have also been simplified by using an optimizer to update weights automatically."
   ]
  },
  {
   "cell_type": "code",
   "execution_count": 13,
   "id": "392205e4",
   "metadata": {},
   "outputs": [],
   "source": [
    "criterion = nn.NLLLoss()\n",
    "learning_rate = 0.005 # If you set this too high, it might explode. If too low, it might not learn\n",
    "\n",
    "def train(category_tensor, line_tensor):\n",
    "    hidden = model.initHidden()\n",
    "    cell = model.initCell()\n",
    "\n",
    "    model.zero_grad()\n",
    "\n",
    "    for i in range(line_tensor.size()[0]):\n",
    "        output, hidden, cell = model(line_tensor[i], hidden, cell)\n",
    "\n",
    "    loss = criterion(output, category_tensor)\n",
    "    loss.backward()\n",
    "\n",
    "    # Add parameters' gradients to their values, multiplied by learning rate\n",
    "    for p in model.parameters():\n",
    "        p.data.add_(p.grad.data, alpha=-learning_rate)\n",
    "\n",
    "    return output, loss.item()"
   ]
  },
  {
   "cell_type": "markdown",
   "id": "d5068895",
   "metadata": {},
   "source": [
    "Finally, run the training process for n_iters iterations. Keep track of losses for plotting."
   ]
  },
  {
   "cell_type": "code",
   "execution_count": 14,
   "id": "dad691b0",
   "metadata": {},
   "outputs": [
    {
     "name": "stdout",
     "output_type": "stream",
     "text": [
      "5000 5% (0m 13s) 2.9335 Soler / French ✗ (Spanish)\n",
      "10000 10% (0m 27s) 2.8421 Luu / Chinese ✗ (Vietnamese)\n",
      "15000 15% (0m 41s) 2.8284 Aiello / Spanish ✗ (Italian)\n",
      "20000 20% (0m 55s) 2.8792 Mcintosh / Greek ✗ (Scottish)\n",
      "25000 25% (1m 9s) 1.9960 Panayiotopoulos / Greek ✓\n",
      "30000 30% (1m 22s) 2.7148 Kido / Chinese ✗ (Japanese)\n",
      "35000 35% (1m 36s) 1.6490 Kan / Chinese ✓\n",
      "40000 40% (1m 50s) 3.0202 Serafin / Irish ✗ (Polish)\n",
      "45000 45% (2m 3s) 1.8624 Sabbagh / Arabic ✓\n",
      "50000 50% (2m 17s) 1.1046 Banh / Vietnamese ✓\n",
      "55000 55% (2m 31s) 1.8432 Toma / Vietnamese ✗ (Arabic)\n",
      "60000 60% (2m 45s) 1.2552 Garcia / Portuguese ✓\n",
      "65000 65% (2m 59s) 2.2870 Smith / Arabic ✗ (Scottish)\n",
      "70000 70% (3m 12s) 0.6258 Hairov / Russian ✓\n",
      "75000 75% (3m 26s) 4.2777 Fergus / Portuguese ✗ (Irish)\n",
      "80000 80% (3m 40s) 0.8540 Wehner / German ✓\n",
      "85000 85% (3m 54s) 1.4147 Melo / Spanish ✗ (Portuguese)\n",
      "90000 90% (4m 8s) 3.0032 Tomas / Arabic ✗ (Spanish)\n",
      "95000 95% (4m 21s) 1.3798 Chu / Vietnamese ✗ (Chinese)\n",
      "100000 100% (4m 35s) 0.7323 Moghadam / Arabic ✓\n"
     ]
    }
   ],
   "source": [
    "n_iters = 100000\n",
    "print_every = 5000\n",
    "plot_every = 1000\n",
    "\n",
    "\n",
    "\n",
    "# Keep track of losses for plotting\n",
    "current_loss = 0\n",
    "all_losses = []\n",
    "\n",
    "def timeSince(since):\n",
    "    now = time.time()\n",
    "    s = now - since\n",
    "    m = math.floor(s / 60)\n",
    "    s -= m * 60\n",
    "    return '%dm %ds' % (m, s)\n",
    "\n",
    "start = time.time()\n",
    "\n",
    "for iter in range(1, n_iters + 1):\n",
    "    category, line, category_tensor, line_tensor = randomTrainingExample()\n",
    "    output, loss = train(category_tensor, line_tensor)\n",
    "    current_loss += loss\n",
    "\n",
    "    # Print ``iter`` number, loss, name and guess\n",
    "    if iter % print_every == 0:\n",
    "        guess, guess_i = categoryFromOutput(output)\n",
    "        correct = '✓' if guess == category else '✗ (%s)' % category\n",
    "        print('%d %d%% (%s) %.4f %s / %s %s' % (iter, iter / n_iters * 100, timeSince(start), loss, line, guess, correct))\n",
    "\n",
    "    # Add current loss avg to list of losses\n",
    "    if iter % plot_every == 0:\n",
    "        all_losses.append(current_loss / plot_every)\n",
    "        current_loss = 0"
   ]
  },
  {
   "cell_type": "code",
   "execution_count": 15,
   "id": "9935b43a",
   "metadata": {},
   "outputs": [
    {
     "data": {
      "text/plain": [
       "[<matplotlib.lines.Line2D at 0x233e1638100>]"
      ]
     },
     "execution_count": 15,
     "metadata": {},
     "output_type": "execute_result"
    },
    {
     "data": {
      "image/png": "[encoded data removed]",
      "text/plain": [
       "<Figure size 640x480 with 1 Axes>"
      ]
     },
     "metadata": {},
     "output_type": "display_data"
    }
   ],
   "source": [
    "plt.figure()\n",
    "plt.plot(all_losses)"
   ]
  },
  {
   "cell_type": "markdown",
   "id": "e5fad731",
   "metadata": {},
   "source": [
    "# Evaluation\n",
    "\n",
    "The model can be evaluated by creating a confusion matrix. The training set wasn't split into a validation set for simplicity. Randomly sample n_confusion samples from the training set and plot the guesses in the confusion matrix."
   ]
  },
  {
   "cell_type": "code",
   "execution_count": 16,
   "id": "c6e643d8",
   "metadata": {},
   "outputs": [
    {
     "name": "stderr",
     "output_type": "stream",
     "text": [
      "C:\\Users\\shrey\\AppData\\Local\\Temp\\ipykernel_27576\\938437755.py:34: UserWarning: FixedFormatter should only be used together with FixedLocator\n",
      "  ax.set_xticklabels([''] + all_categories, rotation=90)\n",
      "C:\\Users\\shrey\\AppData\\Local\\Temp\\ipykernel_27576\\938437755.py:35: UserWarning: FixedFormatter should only be used together with FixedLocator\n",
      "  ax.set_yticklabels([''] + all_categories)\n"
     ]
    },
    {
     "data": {
      "image/png": "[encoded data removed]",
      "text/plain": [
       "<Figure size 640x480 with 2 Axes>"
      ]
     },
     "metadata": {},
     "output_type": "display_data"
    }
   ],
   "source": [
    "# Keep track of correct guesses in a confusion matrix\n",
    "confusion = torch.zeros(n_categories, n_categories)\n",
    "n_confusion = 10000\n",
    "\n",
    "# Just return an output given a line\n",
    "def evaluate(line_tensor):\n",
    "    hidden = model.initHidden()\n",
    "    cell = model.initCell()\n",
    "\n",
    "    for i in range(line_tensor.size()[0]):\n",
    "        output, hidden, cell = model(line_tensor[i], hidden, cell)\n",
    "\n",
    "    return output\n",
    "\n",
    "# Go through a bunch of examples and record which are correctly guessed\n",
    "for i in range(n_confusion):\n",
    "    category, line, category_tensor, line_tensor = randomTrainingExample()\n",
    "    output = evaluate(line_tensor)\n",
    "    guess, guess_i = categoryFromOutput(output)\n",
    "    category_i = all_categories.index(category)\n",
    "    confusion[category_i][guess_i] += 1\n",
    "\n",
    "# Normalize by dividing every row by its sum\n",
    "for i in range(n_categories):\n",
    "    confusion[i] = confusion[i] / confusion[i].sum()\n",
    "\n",
    "# Set up plot\n",
    "fig = plt.figure()\n",
    "ax = fig.add_subplot(111)\n",
    "cax = ax.matshow(confusion.numpy())\n",
    "fig.colorbar(cax)\n",
    "\n",
    "# Set up axes\n",
    "ax.set_xticklabels([''] + all_categories, rotation=90)\n",
    "ax.set_yticklabels([''] + all_categories)\n",
    "\n",
    "# Force label at every tick\n",
    "ax.xaxis.set_major_locator(ticker.MultipleLocator(1))\n",
    "ax.yaxis.set_major_locator(ticker.MultipleLocator(1))\n",
    "\n",
    "# sphinx_gallery_thumbnail_number = 2\n",
    "plt.show()"
   ]
  },
  {
   "cell_type": "markdown",
   "id": "3d1b5994",
   "metadata": {},
   "source": [
    "Most of the names are classified correctly as seen from the bright diagonal. There are a few dimmer squares off the diagonal representing misclassified names.\n",
    "\n",
    "A predict function is optionally defined below to easily test out other names that are not in the original dataset."
   ]
  },
  {
   "cell_type": "code",
   "execution_count": 17,
   "id": "35db76f8",
   "metadata": {},
   "outputs": [
    {
     "name": "stdout",
     "output_type": "stream",
     "text": [
      "\n",
      "> Dovesky\n",
      "(-0.98) Russian\n",
      "(-1.43) Polish\n",
      "(-1.84) Czech\n",
      "\n",
      "> Jackson\n",
      "(-0.96) Scottish\n",
      "(-1.89) English\n",
      "(-2.01) Polish\n",
      "\n",
      "> Satoshi\n",
      "(-0.25) Japanese\n",
      "(-2.29) Arabic\n",
      "(-2.79) Polish\n"
     ]
    }
   ],
   "source": [
    "def predict(input_line, n_predictions=3):\n",
    "    print('\\n> %s' % input_line)\n",
    "    with torch.no_grad():\n",
    "        output = evaluate(lineToTensor(input_line))\n",
    "\n",
    "        # Get top N categories\n",
    "        topv, topi = output.topk(n_predictions, 1, True)\n",
    "        predictions = []\n",
    "\n",
    "        for i in range(n_predictions):\n",
    "            value = topv[0][i].item()\n",
    "            category_index = topi[0][i].item()\n",
    "            print('(%.2f) %s' % (value, all_categories[category_index]))\n",
    "            predictions.append([value, all_categories[category_index]])\n",
    "\n",
    "predict('Dovesky')\n",
    "predict('Jackson')\n",
    "predict('Satoshi')"
   ]
  },
  {
   "cell_type": "markdown",
   "id": "137a4571",
   "metadata": {},
   "source": [
    "# Resources\n",
    "https://colah.github.io/posts/2015-08-Understanding-LSTMs/\n",
    "\n",
    "https://www.analyticsvidhya.com/blog/2021/03/introduction-to-long-short-term-memory-lstm/"
   ]
  },
  {
   "cell_type": "code",
   "execution_count": null,
   "id": "16c16bdb",
   "metadata": {},
   "outputs": [],
   "source": []
  }
 ],
 "metadata": {
  "kernelspec": {
   "display_name": "Python 3 (ipykernel)",
   "language": "python",
   "name": "python3"
  },
  "language_info": {
   "codemirror_mode": {
    "name": "ipython",
    "version": 3
   },
   "file_extension": ".py",
   "mimetype": "text/x-python",
   "name": "python",
   "nbconvert_exporter": "python",
   "pygments_lexer": "ipython3",
   "version": "3.9.17"
  }
 },
 "nbformat": 4,
 "nbformat_minor": 5
}
