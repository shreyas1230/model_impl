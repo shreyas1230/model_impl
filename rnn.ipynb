{
 "cells": [
  {
   "cell_type": "markdown",
   "id": "56dcf7a5",
   "metadata": {},
   "source": [
    "# Recurrent Neural Network\n",
    "Implementation adapted from Pytorch tutorial: https://pytorch.org/tutorials/intermediate/char_rnn_classification_tutorial.html\n",
    "\n",
    "Recurrent neural networks are the simplest architecture that keeps track of a hidden state as a type of memory. It carries this information across time steps to \"remember\" past inputs. This hidden state is used to influence the output given an input for the current timestep.\n",
    "\n",
    "There are three weights, input weight, hidden weight, and output weight. These weights remain the same and are reused across steps.\n",
    "\n",
    "Let's implement a very basic character level RNN to classify names by language."
   ]
  },
  {
   "cell_type": "code",
   "execution_count": 1,
   "id": "fcff82bb",
   "metadata": {},
   "outputs": [],
   "source": [
    "# Import necessary packages\n",
    "import requests\n",
    "import io\n",
    "import zipfile\n",
    "import os\n",
    "import unicodedata\n",
    "import string\n",
    "import torch\n",
    "import torch.nn as nn\n",
    "from torch.utils.data import Dataset\n",
    "from torch.utils.data import DataLoader\n",
    "import time\n",
    "import math\n",
    "import tqdm\n",
    "import matplotlib.pyplot as plt\n",
    "import matplotlib.ticker as ticker\n",
    "import random"
   ]
  },
  {
   "cell_type": "markdown",
   "id": "b099f1b7",
   "metadata": {},
   "source": [
    "# Loading Data\n",
    "The Pytorch tutorial provides a dataset which you can download. However, in this notebook, just read the data into memory directly."
   ]
  },
  {
   "cell_type": "code",
   "execution_count": 2,
   "id": "3ec1fb58",
   "metadata": {},
   "outputs": [],
   "source": [
    "# Define all letters in ascii plus some additional characters\n",
    "all_letters = string.ascii_letters + \" .,;'\"\n",
    "n_letters = len(all_letters)\n",
    "\n",
    "# Turn a Unicode string to plain ASCII, thanks to https://stackoverflow.com/a/518232/2809427\n",
    "def unicodeToAscii(s):\n",
    "    return ''.join(\n",
    "        c for c in unicodedata.normalize('NFD', s)\n",
    "        if unicodedata.category(c) != 'Mn'\n",
    "        and c in all_letters\n",
    "    )\n",
    "\n",
    "def read_names_dataset():\n",
    "    # Build the category_lines dictionary, a list of names per language\n",
    "    category_lines = {}\n",
    "    all_categories = []\n",
    "    \n",
    "    url = 'https://download.pytorch.org/tutorial/data.zip'\n",
    "    r = requests.get(url)\n",
    "    with io.BytesIO(r.content) as zip_bytes:\n",
    "        with zipfile.ZipFile(zip_bytes) as f:\n",
    "            zip_contents = f.namelist()\n",
    "            \n",
    "            for filename in zip_contents:\n",
    "                # Skip over irrelevant files and folders\n",
    "                if 'data/names' not in filename or '.' not in filename:\n",
    "                    continue\n",
    "                category = os.path.splitext(os.path.basename(filename))[0]\n",
    "                all_categories.append(category)\n",
    "                lines = f.read(filename).decode('utf-8').strip().split('\\n')\n",
    "                lines = [unicodeToAscii(line) for line in lines]\n",
    "                category_lines[category] = lines\n",
    "    return all_categories, category_lines"
   ]
  },
  {
   "cell_type": "code",
   "execution_count": 3,
   "id": "994d7b8e",
   "metadata": {},
   "outputs": [],
   "source": [
    "all_categories, category_lines = read_names_dataset()\n",
    "n_categories = len(all_categories)"
   ]
  },
  {
   "cell_type": "code",
   "execution_count": 4,
   "id": "1d65f90f",
   "metadata": {},
   "outputs": [
    {
     "name": "stdout",
     "output_type": "stream",
     "text": [
      "['Arabic', 'Chinese', 'Czech', 'Dutch', 'English', 'French', 'German', 'Greek', 'Irish', 'Italian', 'Japanese', 'Korean', 'Polish', 'Portuguese', 'Russian', 'Scottish', 'Spanish', 'Vietnamese']\n",
      "['Abandonato', 'Abatangelo', 'Abatantuono', 'Abate', 'Abategiovanni']\n"
     ]
    }
   ],
   "source": [
    "print(all_categories)\n",
    "print(category_lines['Italian'][:5])"
   ]
  },
  {
   "cell_type": "markdown",
   "id": "1173e9a2",
   "metadata": {},
   "source": [
    "Now that the data is loaded in, define a few helper functions to convert between character and numerical representation. Also define a function to return the most likely language given probabilities output from the model."
   ]
  },
  {
   "cell_type": "code",
   "execution_count": 5,
   "id": "7cc9ba81",
   "metadata": {},
   "outputs": [],
   "source": [
    "# Find letter index from all_letters, e.g. \"a\" = 0\n",
    "def letterToIndex(letter):\n",
    "    return all_letters.find(letter)\n",
    "\n",
    "# Turn a line into a <line_length x 1 x n_letters>,\n",
    "# or an array of one-hot letter vectors\n",
    "def lineToTensor(line):\n",
    "    tensor = torch.zeros(len(line), 1, n_letters)\n",
    "    for li, letter in enumerate(line):\n",
    "        tensor[li][0][letterToIndex(letter)] = 1\n",
    "    return tensor\n",
    "\n",
    "def categoryFromOutput(output):\n",
    "    top_n, top_i = output.topk(1)\n",
    "    category_i = top_i[0].item()\n",
    "    return all_categories[category_i], category_i"
   ]
  },
  {
   "cell_type": "markdown",
   "id": "84d6dc9c",
   "metadata": {},
   "source": [
    "Finally, define functions to randomly sample data from the dataset. This will be useful when querying data during training.\n",
    "\n",
    "**Note:** The way the data is being sampled is important. The code below randomly samples a language and then randomly chooses a name from that language. This is different from just randomly sampling a name from the set of all names. Randomly sampling a name from the set of all names would result in training heavily on over represented languages while not learning enough from languages with fewer names in the dataset."
   ]
  },
  {
   "cell_type": "code",
   "execution_count": 6,
   "id": "dec5d7a8",
   "metadata": {},
   "outputs": [],
   "source": [
    "def randomChoice(l):\n",
    "    return l[random.randint(0, len(l) - 1)]\n",
    "\n",
    "def randomTrainingExample():\n",
    "    category = randomChoice(all_categories)\n",
    "    line = randomChoice(category_lines[category])\n",
    "    category_tensor = torch.tensor([all_categories.index(category)], dtype=torch.long)\n",
    "    line_tensor = lineToTensor(line)\n",
    "    return category, line, category_tensor, line_tensor"
   ]
  },
  {
   "cell_type": "markdown",
   "id": "c47bc43b",
   "metadata": {},
   "source": [
    "# Defining the Model\n",
    "\n",
    "Now we define the RNN model. For a particular step t, the input is multiplied by an input weight:\n",
    "\n",
    "$$\n",
    "h^{(t)} = b + W_x^{(t)}X^{(t)} + W_h^{(t)}h^{(t-1)}\n",
    "$$\n",
    "\n",
    "$$\n",
    "z^{(t)} = c + W_o^{(t)}h^{(t)}\n",
    "$$\n",
    "\n",
    "$$\n",
    "o^{(t)} = g(z^{(t)})\n",
    "$$\n",
    "\n",
    "where $X^{(t)}$ is the input at time t and $h^{(t-1)}$ and $h^{(t)}$ are hidden states at steps t-1 and t, respectively,\n",
    "\n",
    "$W_x^{(t)}$, $W_h^{(t)}$, and $W_o^{(t)}$ are the model weights that are multiplied with input, previous hidden state, and current hidden state, respectively,\n",
    "\n",
    "$b$ and $c$ are additional bias terms,\n",
    "\n",
    "and $g$ is a nonlinear activation function (ReLU, Tanh, etc.)\n",
    "\n",
    "In the below model definition, these same functions are implemented but a shorthand is used where self.i2h is the weights $W_x^{(t)}$ and $W_h^{(t)}$ concatenated along the second dimension. This allows calculation of $h^{(t)}$ using only one matrix multiplication instead of using two separate multiplications for each of the weights. But this is still implementing the same function as written above.\n",
    "\n",
    "Also, the bias terms are not explicitly calculated since there are parameters of the nn.Linear weights. For the activation function, the softmax function is used."
   ]
  },
  {
   "cell_type": "code",
   "execution_count": 7,
   "id": "83cf0123",
   "metadata": {},
   "outputs": [],
   "source": [
    "class RNN(nn.Module):\n",
    "    def __init__(self, input_size, hidden_size, output_size):\n",
    "        super(RNN, self).__init__()\n",
    "\n",
    "        self.hidden_size = hidden_size\n",
    "\n",
    "        self.i2h = nn.Linear(input_size + hidden_size, hidden_size)\n",
    "        self.h2o = nn.Linear(hidden_size, output_size)\n",
    "        self.softmax = nn.LogSoftmax(dim=1)\n",
    "\n",
    "    def forward(self, input, hidden):\n",
    "        combined = torch.cat((input, hidden), 1)\n",
    "        hidden = self.i2h(combined)\n",
    "        output = self.h2o(hidden)\n",
    "        output = self.softmax(output)\n",
    "        return output, hidden\n",
    "\n",
    "    def initHidden(self):\n",
    "        return torch.zeros(1, self.hidden_size)"
   ]
  },
  {
   "cell_type": "code",
   "execution_count": 8,
   "id": "35dc572c",
   "metadata": {},
   "outputs": [
    {
     "name": "stdout",
     "output_type": "stream",
     "text": [
      "RNN(\n",
      "  (i2h): Linear(in_features=185, out_features=128, bias=True)\n",
      "  (h2o): Linear(in_features=128, out_features=18, bias=True)\n",
      "  (softmax): LogSoftmax(dim=1)\n",
      ")\n"
     ]
    }
   ],
   "source": [
    "n_hidden = 128\n",
    "rnn = RNN(n_letters, n_hidden, n_categories)\n",
    "print(rnn)"
   ]
  },
  {
   "cell_type": "markdown",
   "id": "41938f1a",
   "metadata": {},
   "source": [
    "# Training\n",
    "\n",
    "To train the model, define a criterion function to calculate the loss. NLLLoss is used here.\n",
    "\n",
    "A train function is also defined where it takes a single name and iterates over each of the characters in the name, passing the character as input to the model as well as the previous hidden state. After all characters are passed to the model, the loss is calculated using the final output and target category and the gradients are calculated with loss.backward(). Then the gradients are manually added to the weights. **Note:** this could have also been simplified by using an optimizer to update weights automatically."
   ]
  },
  {
   "cell_type": "code",
   "execution_count": 9,
   "id": "392205e4",
   "metadata": {},
   "outputs": [],
   "source": [
    "criterion = nn.NLLLoss()\n",
    "learning_rate = 0.005 # If you set this too high, it might explode. If too low, it might not learn\n",
    "\n",
    "def train(category_tensor, line_tensor):\n",
    "    hidden = rnn.initHidden()\n",
    "\n",
    "    rnn.zero_grad()\n",
    "\n",
    "    for i in range(line_tensor.size()[0]):\n",
    "        output, hidden = rnn(line_tensor[i], hidden)\n",
    "\n",
    "    loss = criterion(output, category_tensor)\n",
    "    loss.backward()\n",
    "\n",
    "    # Add parameters' gradients to their values, multiplied by learning rate\n",
    "    for p in rnn.parameters():\n",
    "        p.data.add_(p.grad.data, alpha=-learning_rate)\n",
    "\n",
    "    return output, loss.item()"
   ]
  },
  {
   "cell_type": "markdown",
   "id": "d5068895",
   "metadata": {},
   "source": [
    "Finally, run the training process for n_iters iterations. Keep track of losses for plotting."
   ]
  },
  {
   "cell_type": "code",
   "execution_count": 10,
   "id": "dad691b0",
   "metadata": {},
   "outputs": [
    {
     "name": "stdout",
     "output_type": "stream",
     "text": [
      "5000 5% (0m 5s) 2.8022 Sobol / Irish ✗ (Polish)\n",
      "10000 10% (0m 10s) 1.3326 Raimondi / Polish ✗ (Italian)\n",
      "15000 15% (0m 15s) 0.0761 Geracimos / Greek ✓\n",
      "20000 20% (0m 20s) 3.3109 De luca / Portuguese ✗ (Italian)\n",
      "25000 25% (0m 25s) 0.8365 Delgado / Portuguese ✓\n",
      "30000 30% (0m 30s) 1.0102 Vuu / Chinese ✗ (Vietnamese)\n",
      "35000 35% (0m 36s) 2.7988 Duarte / French ✗ (Portuguese)\n",
      "40000 40% (0m 41s) 1.8141 Abl / German ✗ (Czech)\n",
      "45000 45% (0m 46s) 0.5801 Bumgarner / German ✓\n",
      "50000 50% (0m 51s) 0.2386 Chou / Korean ✓\n",
      "55000 55% (0m 56s) 0.4407 Higuchi / Japanese ✓\n",
      "60000 60% (1m 1s) 1.1494 Renaud / French ✓\n",
      "65000 65% (1m 7s) 0.9454 Marshall / Scottish ✓\n",
      "70000 70% (1m 12s) 1.3167 Sanda / Japanese ✓\n",
      "75000 75% (1m 17s) 1.7243 Rocco / Portuguese ✗ (Italian)\n",
      "80000 80% (1m 22s) 1.6859 Gilfillan / Dutch ✗ (English)\n",
      "85000 85% (1m 27s) 0.0821 Williamson / Scottish ✓\n",
      "90000 90% (1m 32s) 0.3264 Tassioglou / Greek ✓\n",
      "95000 95% (1m 37s) 0.2757 Morishita / Japanese ✓\n",
      "100000 100% (1m 43s) 0.4924 Xuan / Chinese ✓\n"
     ]
    }
   ],
   "source": [
    "n_iters = 100000\n",
    "print_every = 5000\n",
    "plot_every = 1000\n",
    "\n",
    "\n",
    "\n",
    "# Keep track of losses for plotting\n",
    "current_loss = 0\n",
    "all_losses = []\n",
    "\n",
    "def timeSince(since):\n",
    "    now = time.time()\n",
    "    s = now - since\n",
    "    m = math.floor(s / 60)\n",
    "    s -= m * 60\n",
    "    return '%dm %ds' % (m, s)\n",
    "\n",
    "start = time.time()\n",
    "\n",
    "for iter in range(1, n_iters + 1):\n",
    "    category, line, category_tensor, line_tensor = randomTrainingExample()\n",
    "    output, loss = train(category_tensor, line_tensor)\n",
    "    current_loss += loss\n",
    "\n",
    "    # Print ``iter`` number, loss, name and guess\n",
    "    if iter % print_every == 0:\n",
    "        guess, guess_i = categoryFromOutput(output)\n",
    "        correct = '✓' if guess == category else '✗ (%s)' % category\n",
    "        print('%d %d%% (%s) %.4f %s / %s %s' % (iter, iter / n_iters * 100, timeSince(start), loss, line, guess, correct))\n",
    "\n",
    "    # Add current loss avg to list of losses\n",
    "    if iter % plot_every == 0:\n",
    "        all_losses.append(current_loss / plot_every)\n",
    "        current_loss = 0"
   ]
  },
  {
   "cell_type": "code",
   "execution_count": 11,
   "id": "9935b43a",
   "metadata": {},
   "outputs": [
    {
     "data": {
      "text/plain": [
       "[<matplotlib.lines.Line2D at 0x224c56adb80>]"
      ]
     },
     "execution_count": 11,
     "metadata": {},
     "output_type": "execute_result"
    },
    {
     "data": {
      "image/png": "[encoded data removed]",
      "text/plain": [
       "<Figure size 640x480 with 1 Axes>"
      ]
     },
     "metadata": {},
     "output_type": "display_data"
    }
   ],
   "source": [
    "plt.figure()\n",
    "plt.plot(all_losses)"
   ]
  },
  {
   "cell_type": "markdown",
   "id": "e5fad731",
   "metadata": {},
   "source": [
    "# Evaluation\n",
    "\n",
    "The model can be evaluated by creating a confusion matrix. The training set wasn't split into a validation set for simplicity. Randomly sample n_confusion samples from the training set and plot the guesses in the confusion matrix."
   ]
  },
  {
   "cell_type": "code",
   "execution_count": 12,
   "id": "c6e643d8",
   "metadata": {},
   "outputs": [
    {
     "name": "stderr",
     "output_type": "stream",
     "text": [
      "C:\\Users\\shrey\\AppData\\Local\\Temp\\ipykernel_182992\\3585656379.py:33: UserWarning: FixedFormatter should only be used together with FixedLocator\n",
      "  ax.set_xticklabels([''] + all_categories, rotation=90)\n",
      "C:\\Users\\shrey\\AppData\\Local\\Temp\\ipykernel_182992\\3585656379.py:34: UserWarning: FixedFormatter should only be used together with FixedLocator\n",
      "  ax.set_yticklabels([''] + all_categories)\n"
     ]
    },
    {
     "data": {
      "image/png": "[encoded data removed]",
      "text/plain": [
       "<Figure size 640x480 with 2 Axes>"
      ]
     },
     "metadata": {},
     "output_type": "display_data"
    }
   ],
   "source": [
    "# Keep track of correct guesses in a confusion matrix\n",
    "confusion = torch.zeros(n_categories, n_categories)\n",
    "n_confusion = 10000\n",
    "\n",
    "# Just return an output given a line\n",
    "def evaluate(line_tensor):\n",
    "    hidden = rnn.initHidden()\n",
    "\n",
    "    for i in range(line_tensor.size()[0]):\n",
    "        output, hidden = rnn(line_tensor[i], hidden)\n",
    "\n",
    "    return output\n",
    "\n",
    "# Go through a bunch of examples and record which are correctly guessed\n",
    "for i in range(n_confusion):\n",
    "    category, line, category_tensor, line_tensor = randomTrainingExample()\n",
    "    output = evaluate(line_tensor)\n",
    "    guess, guess_i = categoryFromOutput(output)\n",
    "    category_i = all_categories.index(category)\n",
    "    confusion[category_i][guess_i] += 1\n",
    "\n",
    "# Normalize by dividing every row by its sum\n",
    "for i in range(n_categories):\n",
    "    confusion[i] = confusion[i] / confusion[i].sum()\n",
    "\n",
    "# Set up plot\n",
    "fig = plt.figure()\n",
    "ax = fig.add_subplot(111)\n",
    "cax = ax.matshow(confusion.numpy())\n",
    "fig.colorbar(cax)\n",
    "\n",
    "# Set up axes\n",
    "ax.set_xticklabels([''] + all_categories, rotation=90)\n",
    "ax.set_yticklabels([''] + all_categories)\n",
    "\n",
    "# Force label at every tick\n",
    "ax.xaxis.set_major_locator(ticker.MultipleLocator(1))\n",
    "ax.yaxis.set_major_locator(ticker.MultipleLocator(1))\n",
    "\n",
    "# sphinx_gallery_thumbnail_number = 2\n",
    "plt.show()"
   ]
  },
  {
   "cell_type": "markdown",
   "id": "3d1b5994",
   "metadata": {},
   "source": [
    "Most of the names are classified correctly as seen from the bright diagonal. There are a few dimmer squares off the diagonal representing misclassified names.\n",
    "\n",
    "A predict function is optionally defined below to easily test out other names that are not in the original dataset."
   ]
  },
  {
   "cell_type": "code",
   "execution_count": 14,
   "id": "35db76f8",
   "metadata": {},
   "outputs": [
    {
     "name": "stdout",
     "output_type": "stream",
     "text": [
      "\n",
      "> Dovesky\n",
      "(-0.80) Russian\n",
      "(-1.05) Czech\n",
      "(-1.99) English\n",
      "\n",
      "> Jackson\n",
      "(-0.15) Scottish\n",
      "(-2.32) English\n",
      "(-4.31) Dutch\n",
      "\n",
      "> Satoshi\n",
      "(-0.28) Japanese\n",
      "(-2.11) Arabic\n",
      "(-3.29) Italian\n"
     ]
    }
   ],
   "source": [
    "def predict(input_line, n_predictions=3):\n",
    "    print('\\n> %s' % input_line)\n",
    "    with torch.no_grad():\n",
    "        output = evaluate(lineToTensor(input_line))\n",
    "\n",
    "        # Get top N categories\n",
    "        topv, topi = output.topk(n_predictions, 1, True)\n",
    "        predictions = []\n",
    "\n",
    "        for i in range(n_predictions):\n",
    "            value = topv[0][i].item()\n",
    "            category_index = topi[0][i].item()\n",
    "            print('(%.2f) %s' % (value, all_categories[category_index]))\n",
    "            predictions.append([value, all_categories[category_index]])\n",
    "\n",
    "predict('Dovesky')\n",
    "predict('Jackson')\n",
    "predict('Satoshi')"
   ]
  },
  {
   "cell_type": "code",
   "execution_count": null,
   "id": "d4cee563",
   "metadata": {},
   "outputs": [],
   "source": []
  }
 ],
 "metadata": {
  "kernelspec": {
   "display_name": "Python 3 (ipykernel)",
   "language": "python",
   "name": "python3"
  },
  "language_info": {
   "codemirror_mode": {
    "name": "ipython",
    "version": 3
   },
   "file_extension": ".py",
   "mimetype": "text/x-python",
   "name": "python",
   "nbconvert_exporter": "python",
   "pygments_lexer": "ipython3",
   "version": "3.9.17"
  }
 },
 "nbformat": 4,
 "nbformat_minor": 5
}
